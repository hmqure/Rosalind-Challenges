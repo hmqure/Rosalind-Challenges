{
 "cells": [
  {
   "cell_type": "code",
   "execution_count": 2,
   "id": "cbb6ee7a",
   "metadata": {},
   "outputs": [],
   "source": [
    "def CountNucleotides(seq):\n",
    "    A = seq.count(\"A\")\n",
    "    C = seq.count(\"C\")\n",
    "    G = seq.count(\"G\")\n",
    "    T = seq.count(\"T\")\n",
    "\n",
    "    return A, C, G, T"
   ]
  },
  {
   "cell_type": "code",
   "execution_count": 3,
   "id": "9389d20e",
   "metadata": {},
   "outputs": [
    {
     "name": "stdout",
     "output_type": "stream",
     "text": [
      "(238, 235, 205, 204)\n"
     ]
    }
   ],
   "source": [
    "seq = 'AGGCCAGTCGCTGCCACAGAGGTGGGCCTTGAGGATTACAAGCCACCTCTTATGCACTACGCTTTAATAGGCAAAAATCGCAACCCCTCGTCCTCCAAGCTTTATGGTAGAAGCAGTTCTCGTTAGTGGCAACTAGCCCTTATACAAGCTATATCCACGGGCGAATAACAATCGCATAAAGCCTAAGATTCAGTTAGATAGCACGGGCCCGTAGGACTATCGAACTTCGGCTGACATTACAGCGTAAGGGCCACCCAGTCACTTTCGCAGTCAAGGACTGTATCCTGTTTGTCGCAAGCACTGTTGGGGGGTAGGTGCCTTTAGGTATTCCATCCCCCTTCTCTAGAATGGCTATTCACGTATGACAATTGAGACCAATGGGGGACTATTTGCAGAAGGTATAACAAAAGCACTTCGCGGTCCCAGCGCCAGTGGACGGCAACGGATCCCTATCAGAAGCGGCCTCAGATCGAAGGTCGCATCTTACACCTTCGCACATCGCTACTATGAACTAGAACTTTTTACGCTCCACACTGCAGTTCGTGGCATGGGGTAAACCATACCATTAGGGCATGCTGGTCATAGTCACTCTGAATAAGTAGATTTAGATGCGTGCGCTTCGTACGCTTTCGGTCCGGCAGAGCAAATCTAATACACTGACGCCTACATCTACATACGGGAGCCATGTTGACCCATTCGGCTCCTGCTCTGCTCACTAACCCTAGCACTACTAGAGAGCGGCCGACGAACTTATCATTCGCCGAAAAAATAGCCGGGGGATCAAAAGAAACACCACTCGGCCATAAGTATATAGCTGGCATTACAGCCCATGAAGTGCAAGGCTAGTGTCGATCCACTACAATACGCGTAGATGGAGCCTAC'\n",
    "\n",
    "count = CountNucleotides(seq)\n",
    "\n",
    "print(count)"
   ]
  }
 ],
 "metadata": {
  "kernelspec": {
   "display_name": "Python 3 (ipykernel)",
   "language": "python",
   "name": "python3"
  },
  "language_info": {
   "codemirror_mode": {
    "name": "ipython",
    "version": 3
   },
   "file_extension": ".py",
   "mimetype": "text/x-python",
   "name": "python",
   "nbconvert_exporter": "python",
   "pygments_lexer": "ipython3",
   "version": "3.9.7"
  }
 },
 "nbformat": 4,
 "nbformat_minor": 5
}
