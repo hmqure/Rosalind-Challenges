{
 "cells": [
  {
   "cell_type": "code",
   "execution_count": 2,
   "id": "2d3a935d",
   "metadata": {},
   "outputs": [],
   "source": [
    "#function that identifies N-glycolisation motifs using N{P}[ST]{P} motif format\n",
    "\n",
    "def Nglycolisation(dna):\n",
    "    index = []\n",
    "    for i in range(len(dna)-2): # the -2 is to avoid IndexError \n",
    "        if dna[i] == 'N':\n",
    "            if dna[i+1] != 'P' and dna[i+3] != 'P':\n",
    "                if dna[i+2] in ['S', 'T']:\n",
    "                    index.append(i+1)\n",
    "                    \n",
    "    return index\n",
    "\n",
    "#function that, if given a file of uniprot accesion ids, returns them in a list\n",
    "\n",
    "def Accession(file):\n",
    "    \n",
    "    with open(file, 'r') as sequence:  #open fasta file\n",
    "        data2 = sequence.readlines()\n",
    "\n",
    "\n",
    "    seq = []\n",
    "    full = ''\n",
    "\n",
    "    for i in data2:\n",
    "        strip = i.strip('\\n')\n",
    "        seq.append(strip)\n",
    "        \n",
    "    return seq\n",
    "\n",
    "def FindProteinMotifs(accession_ids):\n",
    "    \n",
    "    import requests\n",
    "    import json\n",
    "    \n",
    "    accession_num = []\n",
    "    \n",
    "    for i in accession_ids:\n",
    "        split = i.split(\"_\")\n",
    "        accession_num.append(split[0])\n",
    "\n",
    "    for i in range(len(accession_num)):\n",
    "\n",
    "        x = requests.get(f\"https://rest.uniprot.org/uniprotkb/{accession_num[i]}.json\")\n",
    "        y = x.json()\n",
    "        seq = y[\"sequence\"]['value']\n",
    "        nglycol = Nglycolisation(seq)\n",
    "        if bool(nglycol) is True:\n",
    "            print(accession_ids[i])\n",
    "            print(*nglycol)\n",
    "\n"
   ]
  },
  {
   "cell_type": "code",
   "execution_count": 3,
   "id": "72cc20dd",
   "metadata": {},
   "outputs": [
    {
     "name": "stdout",
     "output_type": "stream",
     "text": [
      "P01045_KNH2_BOVIN\n",
      "47 87 168 169 197 204 280\n",
      "Q90304_C166_CARAU\n",
      "92 171 350 441 465\n",
      "O13188\n",
      "207\n",
      "A6UDH9\n",
      "207\n",
      "P36913_EBA3_FLAME\n",
      "255 316\n",
      "Q0AYI5\n",
      "220\n",
      "P08318_P100_HCMVA\n",
      "833\n",
      "P19823_ITH2_HUMAN\n",
      "118 445\n",
      "A7Z201\n",
      "104 109 120\n",
      "P11831_SRF_HUMAN\n",
      "319 490\n"
     ]
    }
   ],
   "source": [
    "accession_ids = Accession('rosalind_mprt.txt')\n",
    "FindProteinMotifs(accession_ids)"
   ]
  }
 ],
 "metadata": {
  "kernelspec": {
   "display_name": "Python 3 (ipykernel)",
   "language": "python",
   "name": "python3"
  },
  "language_info": {
   "codemirror_mode": {
    "name": "ipython",
    "version": 3
   },
   "file_extension": ".py",
   "mimetype": "text/x-python",
   "name": "python",
   "nbconvert_exporter": "python",
   "pygments_lexer": "ipython3",
   "version": "3.9.7"
  }
 },
 "nbformat": 4,
 "nbformat_minor": 5
}
