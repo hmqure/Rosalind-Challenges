{
 "cells": [
  {
   "cell_type": "code",
   "execution_count": 3,
   "id": "9af30dfa",
   "metadata": {},
   "outputs": [],
   "source": [
    "def GetAminos(file):\n",
    "\n",
    "    aminos = {}\n",
    "\n",
    "#     file = 'weights.txt'\n",
    "\n",
    "    with open(file, 'r') as weights:        #open tab file\n",
    "        code_key = weights.readlines()\n",
    "\n",
    "    aminos = {}\n",
    "    stripped = []\n",
    "    keys = []\n",
    "    values = []\n",
    "\n",
    "    for rows in code_key:   #iterate through file, removing \\n and splitting rows by \\t and append to new list\n",
    "        strip = (rows.strip('\\n'))\n",
    "        stripped.append(strip.split('\\t'))       \n",
    "\n",
    "    for i in stripped:       #add first item in each nested list to keys list. these are the three letter codons\n",
    "        keys.append(i[0])\n",
    "        values.append(i[1])   #add second item in each nested list to values list. these are the one letter symbols\n",
    "\n",
    "    for num in range(len(keys)):     #attach appropriate key:value relationships in empty dictionary\n",
    "        aminos[keys[num]] = values[num] \n",
    "\n",
    "    weights.close()      #close file\n",
    "    \n",
    "    return aminos\n",
    "\n",
    "def GetSequence(file):\n",
    "\n",
    "    #file = 'rosalind_prtm.txt'\n",
    "\n",
    "    with open(file, 'r') as dna:  #open fasta file\n",
    "        data = dna.readlines()\n",
    "        \n",
    "    return data\n",
    "\n",
    "def GetProteinMass(data):\n",
    "    \n",
    "    seqt = ''\n",
    "\n",
    "    for i in data:\n",
    "        seqt = seqt + i\n",
    "\n",
    "    orf1_weights = []\n",
    "\n",
    "    for i in seqt:     #iterate through list of codons and store its amino acid symbol to empty string, making protein sequence\n",
    "        if i in aminos.keys():\n",
    "            orf1_weights.append(float(aminos[i]))\n",
    "\n",
    "    counter = 0\n",
    "\n",
    "    for i in orf1_weights:\n",
    "        counter = counter + i\n",
    "\n",
    "    return counter\n",
    "\n",
    "# 98902.58255000037"
   ]
  },
  {
   "cell_type": "code",
   "execution_count": 5,
   "id": "29d3c6d8",
   "metadata": {},
   "outputs": [
    {
     "data": {
      "text/plain": [
       "98902.58255000037"
      ]
     },
     "execution_count": 5,
     "metadata": {},
     "output_type": "execute_result"
    }
   ],
   "source": [
    "aminos = GetAminos('weights.txt')\n",
    "\n",
    "data = GetSequence('rosalind_prtm.txt')\n",
    "\n",
    "proteinmass = GetProteinMass(data)\n",
    "\n",
    "proteinmass"
   ]
  }
 ],
 "metadata": {
  "kernelspec": {
   "display_name": "Python 3 (ipykernel)",
   "language": "python",
   "name": "python3"
  },
  "language_info": {
   "codemirror_mode": {
    "name": "ipython",
    "version": 3
   },
   "file_extension": ".py",
   "mimetype": "text/x-python",
   "name": "python",
   "nbconvert_exporter": "python",
   "pygments_lexer": "ipython3",
   "version": "3.9.7"
  }
 },
 "nbformat": 4,
 "nbformat_minor": 5
}
