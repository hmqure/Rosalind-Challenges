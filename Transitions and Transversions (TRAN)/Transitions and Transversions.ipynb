{
 "cells": [
  {
   "cell_type": "code",
   "execution_count": 8,
   "id": "79e9d255",
   "metadata": {},
   "outputs": [],
   "source": [
    "def GetTwoFastaSeqs(file):\n",
    "    \n",
    "    with open(file, 'r') as sequence:  #open fasta file\n",
    "        data2 = sequence.readlines()\n",
    "\n",
    "    seq = []\n",
    "    full = ''\n",
    "\n",
    "    for i in data2:                       #This iterates through the fasta (opened again to not interfere with the ids) and finds id line\n",
    "        if i[0] == '>':\n",
    "            unique = (i.replace(i[-1], \">\"))\n",
    "            seq.append(unique)           #Adds \">\" at the end of the id line to make a clear separation between headers and sequences\n",
    "        else:\n",
    "            seq.append(i)                #Prints each line into empty newfasta list\n",
    "\n",
    "    oneline = \"\".join(line.strip() for line in seq)\n",
    "    id_seq = oneline.split(\">\")       \n",
    "\n",
    "    nt = ['A','C','G','T']\n",
    "    seqs = []\n",
    "\n",
    "    for x in range(len(id_seq)):\n",
    "        if id_seq[x].startswith('C'):\n",
    "            seqs.append(id_seq[x])\n",
    "        elif id_seq[x].startswith('G'):\n",
    "            seqs.append(id_seq[x])\n",
    "        elif id_seq[x].startswith('T'):\n",
    "            seqs.append(id_seq[x])\n",
    "        elif id_seq[x].startswith('A'):\n",
    "            seqs.append(id_seq[x])\n",
    "\n",
    "    seq = seqs[0]\n",
    "    other = seqs[1]\n",
    "    \n",
    "    return seq, other\n",
    "\n",
    "def TransitionTransversion(seq1, seq2):\n",
    "    \n",
    "    transitions = 0\n",
    "    transversions = 0\n",
    "\n",
    "    for num in range(len(seq1)): \n",
    "            if seq1[num] == 'A' and seq2[num] =='G':\n",
    "                transitions = transitions + 1\n",
    "            elif seq1[num] == 'A' and seq2[num] in ['C', 'T']:\n",
    "                transversions = transversions +1\n",
    "            elif seq1[num] == 'G' and seq2[num] =='A':\n",
    "                transitions = transitions + 1\n",
    "            elif seq1[num] == 'G' and seq2[num] in ['C', 'T']:\n",
    "                transversions = transversions +1\n",
    "            elif seq1[num] == 'C' and seq2[num] =='T':\n",
    "                transitions = transitions + 1\n",
    "            elif seq1[num] == 'C' and seq2[num] in ['A', 'G']:\n",
    "                transversions = transversions +1\n",
    "            elif seq1[num] == 'T' and seq2[num] =='C':\n",
    "                transitions = transitions + 1\n",
    "            elif seq1[num] == 'T' and seq2[num] in ['A', 'G']:\n",
    "                transversions = transversions +1\n",
    "\n",
    "    return transitions/transversions"
   ]
  },
  {
   "cell_type": "code",
   "execution_count": 9,
   "id": "789650bc",
   "metadata": {},
   "outputs": [
    {
     "data": {
      "text/plain": [
       "1.7653061224489797"
      ]
     },
     "execution_count": 9,
     "metadata": {},
     "output_type": "execute_result"
    }
   ],
   "source": [
    "seqs = GetTwoFastaSeqs('rosalind_tran.txt')\n",
    "TransitionTransversion(seqs[0], seqs[1])"
   ]
  }
 ],
 "metadata": {
  "kernelspec": {
   "display_name": "Python 3 (ipykernel)",
   "language": "python",
   "name": "python3"
  },
  "language_info": {
   "codemirror_mode": {
    "name": "ipython",
    "version": 3
   },
   "file_extension": ".py",
   "mimetype": "text/x-python",
   "name": "python",
   "nbconvert_exporter": "python",
   "pygments_lexer": "ipython3",
   "version": "3.9.7"
  }
 },
 "nbformat": 4,
 "nbformat_minor": 5
}
