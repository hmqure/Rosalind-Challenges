{
 "cells": [
  {
   "cell_type": "code",
   "execution_count": 3,
   "id": "fb03ddfc",
   "metadata": {},
   "outputs": [],
   "source": [
    "def GetSeqAndMotif(file):\n",
    "    with open(file, 'r') as subs:  #open fasta file\n",
    "        data = subs.readlines()\n",
    "\n",
    "    stripped = []\n",
    "\n",
    "    for rows in data:   #iterate through file, removing \\n and splitting rows by \\t and append to new list\n",
    "        stripped.append(rows.strip('\\n'))\n",
    "\n",
    "    dna = stripped[0]  #store sequence\n",
    "    motif = stripped[1]  #store motif\n",
    "    \n",
    "    subs.close()  #close file\n",
    "    \n",
    "    return dna, motif\n",
    "\n",
    "def FindMotif(dna, motif):\n",
    "    \n",
    "    index = []\n",
    "    \n",
    "    for i in range(len(dna)):   #if motif matches with any range in seq, append index to list\n",
    "        if motif == dna[i:i+len(motif)]:\n",
    "            index.append(i+1)\n",
    "\n",
    "    for i in index:   #print index numbers in list\n",
    "        print(i, end = ' ')\n",
    "    \n"
   ]
  },
  {
   "cell_type": "code",
   "execution_count": 4,
   "id": "c040d16b",
   "metadata": {},
   "outputs": [
    {
     "name": "stdout",
     "output_type": "stream",
     "text": [
      "77 84 107 210 236 269 276 311 326 356 371 435 506 540 622 645 692 718 725 769 808 815 "
     ]
    }
   ],
   "source": [
    "seqs = GetSeqAndMotif('rosalind_subs.txt')\n",
    "FindMotif(seqs[0], seqs[1])\n"
   ]
  }
 ],
 "metadata": {
  "kernelspec": {
   "display_name": "Python 3 (ipykernel)",
   "language": "python",
   "name": "python3"
  },
  "language_info": {
   "codemirror_mode": {
    "name": "ipython",
    "version": 3
   },
   "file_extension": ".py",
   "mimetype": "text/x-python",
   "name": "python",
   "nbconvert_exporter": "python",
   "pygments_lexer": "ipython3",
   "version": "3.9.7"
  }
 },
 "nbformat": 4,
 "nbformat_minor": 5
}
