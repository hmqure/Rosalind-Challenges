{
 "cells": [
  {
   "cell_type": "code",
   "execution_count": 29,
   "id": "050d600d",
   "metadata": {},
   "outputs": [],
   "source": [
    "def PrintGCCounter(file):\n",
    "    \n",
    "    with open(file, 'r') as dna:  #open fasta file\n",
    "        data = dna.readlines()\n",
    "\n",
    "    id_list = []\n",
    "    id_list_fin = []\n",
    "\n",
    "    for i in data:\n",
    "        if i[0] == '>':\n",
    "            data.remove(i)\n",
    "            id_list.append(i[1:])\n",
    "\n",
    "    for id in id_list:      #iterate through file after header and strip newline characters\n",
    "        fasta_id = (id.strip('\\n'))\n",
    "        id_list_fin.append(fasta_id)\n",
    "\n",
    "    dna.close()  #close file\n",
    "\n",
    "    ###### ######## #########\n",
    "\n",
    "    with open(file, 'r') as sequence:  #open fasta file\n",
    "        data2 = sequence.readlines()\n",
    "\n",
    "    seq = []\n",
    "    full = ''\n",
    "\n",
    "    for i in data2:                       #This iterates through the fasta (opened again to not interfere with the ids) and finds id line\n",
    "        if i[0] == '>':\n",
    "            unique = (i.replace(i[-1], \">\"))\n",
    "            seq.append(unique)           #Adds \">\" at the end of the id line to make a clear separation between headers and sequences\n",
    "        else:\n",
    "            seq.append(i)                #Prints each line into empty newfasta list\n",
    "\n",
    "    oneline = \"\".join(line.strip() for line in seq)\n",
    "    id_seq = oneline.split(\">\")       \n",
    "\n",
    "    nt = ['A','C','G','T']\n",
    "    seqs = []       #if sequence starts with C,G,T,A append to list \n",
    "\n",
    "    for x in range(len(id_seq)):\n",
    "        if id_seq[x].startswith('C'):\n",
    "            seqs.append(id_seq[x])\n",
    "        elif id_seq[x].startswith('G'):\n",
    "            seqs.append(id_seq[x])\n",
    "        elif id_seq[x].startswith('T'):\n",
    "            seqs.append(id_seq[x])\n",
    "        elif id_seq[x].startswith('A'):\n",
    "            seqs.append(id_seq[x])\n",
    "\n",
    "    ###################### GC counter ###########################################\n",
    "\n",
    "    counter = 0\n",
    "    scores = []\n",
    "    totalcount = []\n",
    "\n",
    "    for i in seqs: #add C and G for each seq and total to other list\n",
    "        scores.append(i.count('C')+i.count('G'))\n",
    "        totalcount.append(i.count('C')+i.count('G')+i.count('A')+i.count('T'))\n",
    "\n",
    "    ratio = []\n",
    "\n",
    "    for i in range(len(scores)):\n",
    "        ratio.append((scores[i]/totalcount[i])*100)\n",
    "\n",
    "    for i in range(len(ratio)): #print header at same index as sequence with highest GC\n",
    "        if ratio[i] == max(ratio):\n",
    "            print(id_list_fin[i])\n",
    "            print(ratio[i])"
   ]
  },
  {
   "cell_type": "code",
   "execution_count": 30,
   "id": "1837546b",
   "metadata": {},
   "outputs": [
    {
     "name": "stdout",
     "output_type": "stream",
     "text": [
      "Rosalind_5987\n",
      "54.25531914893617\n"
     ]
    }
   ],
   "source": [
    "PrintGCContent('rosalind_gc.txt')"
   ]
  }
 ],
 "metadata": {
  "kernelspec": {
   "display_name": "Python 3 (ipykernel)",
   "language": "python",
   "name": "python3"
  },
  "language_info": {
   "codemirror_mode": {
    "name": "ipython",
    "version": 3
   },
   "file_extension": ".py",
   "mimetype": "text/x-python",
   "name": "python",
   "nbconvert_exporter": "python",
   "pygments_lexer": "ipython3",
   "version": "3.9.7"
  }
 },
 "nbformat": 4,
 "nbformat_minor": 5
}
