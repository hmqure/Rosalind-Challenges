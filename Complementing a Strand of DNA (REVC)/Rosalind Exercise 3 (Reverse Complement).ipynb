{
 "cells": [
  {
   "cell_type": "code",
   "execution_count": 1,
   "id": "844f2305",
   "metadata": {},
   "outputs": [],
   "source": [
    "def ReverseComplement(dna):\n",
    "    \n",
    "    rna = ''\n",
    "\n",
    "    #iterate through sequence and put its complemetn in new string\n",
    "    for nt in dna:\n",
    "        if nt == 'A':\n",
    "            rna += 'T'\n",
    "\n",
    "        elif nt == 'T':\n",
    "            rna += 'A'\n",
    "\n",
    "        elif nt == 'G':\n",
    "            rna += 'C'\n",
    "\n",
    "        elif nt == 'C':\n",
    "            rna += 'G'\n",
    "\n",
    "    #print newly built string in reverse to get the complement\n",
    "    return rna[::-1]      \n",
    "        "
   ]
  },
  {
   "cell_type": "code",
   "execution_count": 2,
   "id": "cf09f694",
   "metadata": {},
   "outputs": [
    {
     "data": {
      "text/plain": [
       "'ACCGGGTTTT'"
      ]
     },
     "execution_count": 2,
     "metadata": {},
     "output_type": "execute_result"
    }
   ],
   "source": [
    "dna = 'AAAACCCGGT'\n",
    "\n",
    "ReverseComplement(dna)"
   ]
  }
 ],
 "metadata": {
  "kernelspec": {
   "display_name": "Python 3 (ipykernel)",
   "language": "python",
   "name": "python3"
  },
  "language_info": {
   "codemirror_mode": {
    "name": "ipython",
    "version": 3
   },
   "file_extension": ".py",
   "mimetype": "text/x-python",
   "name": "python",
   "nbconvert_exporter": "python",
   "pygments_lexer": "ipython3",
   "version": "3.9.7"
  }
 },
 "nbformat": 4,
 "nbformat_minor": 5
}
