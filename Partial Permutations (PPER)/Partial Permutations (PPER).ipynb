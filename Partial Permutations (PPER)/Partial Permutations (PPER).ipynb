{
 "cells": [
  {
   "cell_type": "code",
   "execution_count": 10,
   "id": "bca99397",
   "metadata": {},
   "outputs": [],
   "source": [
    "def Getnk(file):\n",
    "    \n",
    "    with open(file, 'r') as dna:  #open fasta file\n",
    "        data = dna.readlines()\n",
    "\n",
    "    nk = data[0].strip('\\n').split(\" \")\n",
    "    n = int(nk[0])\n",
    "    k = int(nk[1])\n",
    "\n",
    "    dna.close()  #close file\n",
    "\n",
    "    return n, k\n",
    "  \n",
    "def PrintPartialPermutations(n, k):\n",
    "    \n",
    "    # n = 89 \n",
    "    # k = 9\n",
    "\n",
    "    n_factorial = []\n",
    "    k_factorial = []\n",
    "\n",
    "    n_times = 1\n",
    "    k_times = 1\n",
    "\n",
    "    for i in range(1,n+1):\n",
    "        n_factorial.append(i)\n",
    "        n_times = n_times * i\n",
    "\n",
    "    for i in range(1,n-k+1):\n",
    "        k_factorial.append(i)\n",
    "        k_times = k_times * i\n",
    "\n",
    "    partial = n_times/k_times\n",
    "\n",
    "    print(int(partial % 1000000))"
   ]
  },
  {
   "cell_type": "code",
   "execution_count": 11,
   "id": "5ee573f5",
   "metadata": {},
   "outputs": [
    {
     "name": "stdout",
     "output_type": "stream",
     "text": [
      "328960\n"
     ]
    }
   ],
   "source": [
    "nk = Getnk('rosalind_pper.txt')\n",
    "PrintPartialPermutations(nk[0], nk[1])"
   ]
  }
 ],
 "metadata": {
  "kernelspec": {
   "display_name": "Python 3 (ipykernel)",
   "language": "python",
   "name": "python3"
  },
  "language_info": {
   "codemirror_mode": {
    "name": "ipython",
    "version": 3
   },
   "file_extension": ".py",
   "mimetype": "text/x-python",
   "name": "python",
   "nbconvert_exporter": "python",
   "pygments_lexer": "ipython3",
   "version": "3.9.7"
  }
 },
 "nbformat": 4,
 "nbformat_minor": 5
}
