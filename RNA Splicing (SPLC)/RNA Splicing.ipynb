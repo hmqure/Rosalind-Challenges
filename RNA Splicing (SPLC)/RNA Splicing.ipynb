{
 "cells": [
  {
   "cell_type": "code",
   "execution_count": 67,
   "id": "851b95f2",
   "metadata": {},
   "outputs": [
    {
     "name": "stdout",
     "output_type": "stream",
     "text": [
      "MYIRLRNRPHTFYAEHVMSPTKARVMSSSRVVLVRESTVGRLDRCPTSSVQIGLSCASSLARSLNRVRARKLCSIYLCGTRACARKRREWLGTSGWVCPAALPADKRGHCSIPTAFYAFAGTFEGVLATFYDENCSIRRFLYKVRGGSVKKVTRRDLQNERWGKIWRLRGCSHSGVNASLKVVNPLYAGGPNHACYYDARLHLCPWGCVSCSTPSLQVNH\n"
     ]
    }
   ],
   "source": [
    "file = 'rosalind_splc.txt'\n",
    "\n",
    "with open(file, 'r') as sequence:  #open fasta file\n",
    "    data2 = sequence.readlines()\n",
    "\n",
    "seq = []\n",
    "full = ''\n",
    "\n",
    "for i in data2:                       #This iterates through the fasta (opened again to not interfere with the ids) and finds id line\n",
    "    if i[0] == '>':\n",
    "        unique = (i.replace(i[-1], \">\"))\n",
    "        seq.append(unique)           #Adds \">\" at the end of the id line to make a clear separation between headers and sequences\n",
    "    else:\n",
    "        seq.append(i)                #Prints each line into empty newfasta list\n",
    "   \n",
    "\n",
    "oneline = \"\".join(line.strip() for line in seq)\n",
    "id_seq = oneline.split(\">\")    \n",
    "\n",
    "nt = ['A','C','G','T']\n",
    "seqs = []\n",
    "\n",
    "for x in range(len(id_seq)):\n",
    "    if id_seq[x].startswith('C'):\n",
    "        seqs.append(id_seq[x])\n",
    "    elif id_seq[x].startswith('G'):\n",
    "        seqs.append(id_seq[x])\n",
    "    elif id_seq[x].startswith('T'):\n",
    "        seqs.append(id_seq[x])\n",
    "    elif id_seq[x].startswith('A'):\n",
    "        seqs.append(id_seq[x])\n",
    "\n",
    "fullseq = seqs[0]\n",
    "\n",
    "for i in seqs:\n",
    "    if i == fullseq:\n",
    "        seqs.remove(i)\n",
    "\n",
    "        \n",
    "for j in range(len(seqs)):\n",
    "    fullseq=fullseq.replace(seqs[j],\"\") #iteratively replace the introns with blank spaces\n",
    "         \n",
    "\n",
    "aminos = {'AAA': 'K', 'AAC': 'N', 'AAG': 'K', 'AAT': 'N', 'ACA': 'T', 'ACC': 'T', 'ACG': 'T', 'ACT': 'T', 'AGA': 'R', 'AGC': 'S', 'AGG': 'R', 'AGT': 'S', 'ATA': 'I', 'ATC': 'I', 'ATG': 'M', 'ATT': 'I', 'CAA': 'Q', 'CAC': 'H', 'CAG': 'Q', 'CAT': 'H', 'CCA': 'P', 'CCC': 'P', 'CCG': 'P', 'CCT': 'P', 'CGA': 'R', 'CGC': 'R', 'CGG': 'R', 'CGT': 'R', 'CTA': 'L', 'CTC': 'L', 'CTG': 'L', 'CTT': 'L', 'GAA': 'E', 'GAC': 'D', 'GAG': 'E', 'GAT': 'D', 'GCA': 'A', 'GCC': 'A', 'GCG': 'A', 'GCT': 'A', 'GGA': 'G', 'GGC': 'G', 'GGG': 'G', 'GGT': 'G', 'GTA': 'V', 'GTC': 'V', 'GTG': 'V', 'GTT': 'V', 'TAA': '*', 'TAC': 'Y', 'TAG': '*', 'TAT': 'Y', 'TCA': 'S', 'TCC': 'S', 'TCG': 'S', 'TCT': 'S', 'TGA': '*', 'TGC': 'C', 'TGG': 'W', 'TGT': 'C', 'TTA': 'L', 'TTC': 'F', 'TTG': 'L', 'TTT': 'F'}\n",
    "\n",
    "orf1 = []\n",
    "orf1_proteins = ''\n",
    "\n",
    "for aa in range(0,len(fullseq),3):   #iterate through dna seq and append every three letters to new list as codons\n",
    "    orf1.append(fullseq[aa:aa+3])\n",
    "\n",
    "for i in orf1:     #iterate through list of codons and store its amino acid symbol to empty string, making protein sequence\n",
    "    if i in aminos.keys():\n",
    "        orf1_proteins += aminos[i]\n",
    "\n",
    "print(orf1_proteins[:len(orf1_proteins)-1:])"
   ]
  },
  {
   "cell_type": "code",
   "execution_count": 5,
   "id": "08a2222d",
   "metadata": {},
   "outputs": [],
   "source": [
    "def GetSequence(file):\n",
    "\n",
    "    # file = 'rosalind_splc.txt'\n",
    "\n",
    "    with open(file, 'r') as sequence:  #open fasta file\n",
    "        data2 = sequence.readlines()\n",
    "\n",
    "    seq = []\n",
    "    full = ''\n",
    "\n",
    "    for i in data2:                       #This iterates through the fasta (opened again to not interfere with the ids) and finds id line\n",
    "        if i[0] == '>':\n",
    "            unique = (i.replace(i[-1], \">\"))\n",
    "            seq.append(unique)           #Adds \">\" at the end of the id line to make a clear separation between headers and sequences\n",
    "        else:\n",
    "            seq.append(i)                #Prints each line into empty newfasta list\n",
    "\n",
    "    oneline = \"\".join(line.strip() for line in seq)\n",
    "    id_seq = oneline.split(\">\")    \n",
    "\n",
    "    nt = ['A','C','G','T']\n",
    "    seqs = []\n",
    "\n",
    "    for x in range(len(id_seq)):\n",
    "        if id_seq[x].startswith('C'):\n",
    "            seqs.append(id_seq[x])\n",
    "        elif id_seq[x].startswith('G'):\n",
    "            seqs.append(id_seq[x])\n",
    "        elif id_seq[x].startswith('T'):\n",
    "            seqs.append(id_seq[x])\n",
    "        elif id_seq[x].startswith('A'):\n",
    "            seqs.append(id_seq[x])\n",
    "\n",
    "    fullseq = seqs[0]\n",
    "    \n",
    "    for i in seqs:\n",
    "        if i == fullseq:\n",
    "            seqs.remove(i)\n",
    "\n",
    "    for j in range(len(seqs)):\n",
    "        fullseq=fullseq.replace(seqs[j],\"\") #iteratively replace the introns with blank spaces\n",
    "\n",
    "    return fullseq\n",
    "\n",
    "def Translate(fullseq):\n",
    "\n",
    "    aminos = {'AAA': 'K', 'AAC': 'N', 'AAG': 'K', 'AAT': 'N', 'ACA': 'T', 'ACC': 'T', 'ACG': 'T', 'ACT': 'T', 'AGA': 'R', 'AGC': 'S', 'AGG': 'R', 'AGT': 'S', 'ATA': 'I', 'ATC': 'I', 'ATG': 'M', 'ATT': 'I', 'CAA': 'Q', 'CAC': 'H', 'CAG': 'Q', 'CAT': 'H', 'CCA': 'P', 'CCC': 'P', 'CCG': 'P', 'CCT': 'P', 'CGA': 'R', 'CGC': 'R', 'CGG': 'R', 'CGT': 'R', 'CTA': 'L', 'CTC': 'L', 'CTG': 'L', 'CTT': 'L', 'GAA': 'E', 'GAC': 'D', 'GAG': 'E', 'GAT': 'D', 'GCA': 'A', 'GCC': 'A', 'GCG': 'A', 'GCT': 'A', 'GGA': 'G', 'GGC': 'G', 'GGG': 'G', 'GGT': 'G', 'GTA': 'V', 'GTC': 'V', 'GTG': 'V', 'GTT': 'V', 'TAA': '*', 'TAC': 'Y', 'TAG': '*', 'TAT': 'Y', 'TCA': 'S', 'TCC': 'S', 'TCG': 'S', 'TCT': 'S', 'TGA': '*', 'TGC': 'C', 'TGG': 'W', 'TGT': 'C', 'TTA': 'L', 'TTC': 'F', 'TTG': 'L', 'TTT': 'F'}\n",
    "\n",
    "    orf1 = []\n",
    "    orf1_proteins = ''\n",
    "\n",
    "    for aa in range(0,len(fullseq),3):   #iterate through dna seq and append every three letters to new list as codons\n",
    "        orf1.append(fullseq[aa:aa+3])\n",
    "\n",
    "    for i in orf1:     #iterate through list of codons and store its amino acid symbol to empty string, making protein sequence\n",
    "        if i in aminos.keys():\n",
    "            orf1_proteins += aminos[i]\n",
    "\n",
    "    return orf1_proteins[:len(orf1_proteins)-1:]"
   ]
  },
  {
   "cell_type": "code",
   "execution_count": 6,
   "id": "1a7c371e",
   "metadata": {},
   "outputs": [
    {
     "data": {
      "text/plain": [
       "'MYIRLRNRPHTFYAEHVMSPTKARVMSSSRVVLVRESTVGRLDRCPTSSVQIGLSCASSLARSLNRVRARKLCSIYLCGTRACARKRREWLGTSGWVCPAALPADKRGHCSIPTAFYAFAGTFEGVLATFYDENCSIRRFLYKVRGGSVKKVTRRDLQNERWGKIWRLRGCSHSGVNASLKVVNPLYAGGPNHACYYDARLHLCPWGCVSCSTPSLQVNH'"
      ]
     },
     "execution_count": 6,
     "metadata": {},
     "output_type": "execute_result"
    }
   ],
   "source": [
    "fullseq = GetSequence('rosalind_splc.txt')\n",
    "\n",
    "protein = Translate(fullseq)\n",
    "\n",
    "protein"
   ]
  }
 ],
 "metadata": {
  "kernelspec": {
   "display_name": "Python 3 (ipykernel)",
   "language": "python",
   "name": "python3"
  },
  "language_info": {
   "codemirror_mode": {
    "name": "ipython",
    "version": 3
   },
   "file_extension": ".py",
   "mimetype": "text/x-python",
   "name": "python",
   "nbconvert_exporter": "python",
   "pygments_lexer": "ipython3",
   "version": "3.9.7"
  }
 },
 "nbformat": 4,
 "nbformat_minor": 5
}
