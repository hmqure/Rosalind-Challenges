{
 "cells": [
  {
   "cell_type": "code",
   "execution_count": 38,
   "id": "3bd6d0f4",
   "metadata": {},
   "outputs": [
    {
     "name": "stdout",
     "output_type": "stream",
     "text": [
      "838528\n"
     ]
    }
   ],
   "source": [
    "file = 'codons.txt'\n",
    "\n",
    "with open(file, 'r') as gencode:        #open tab file\n",
    "    code_key = gencode.readlines()\n",
    "\n",
    "aminos = {}\n",
    "stripped = []\n",
    "keys = []\n",
    "values = []\n",
    "\n",
    "for rows in code_key:   #iterate through file, removing \\n and splitting rows by \\t and append to new list\n",
    "    strip = (rows.strip('\\n'))\n",
    "    stripped.append(strip.split('\\t'))       \n",
    "    \n",
    "for i in stripped:       #add first item in each nested list to keys list. these are the three letter codons\n",
    "    keys.append(i[0])\n",
    "    values.append(i[1])   #add second item in each nested list to values list. these are the one letter symbols\n",
    "\n",
    "for num in range(len(keys)):     #attach appropriate key:value relationships in empty dictionary\n",
    "    aminos[keys[num]] = values[num] \n",
    "\n",
    "gencode.close()      #close file\n",
    "\n",
    "filename = 'rosalind_mrna.txt'\n",
    "\n",
    "with open(filename, 'r') as prot:        #open tab file\n",
    "    prot_seq = prot.readlines()\n",
    "\n",
    "seqt = ''\n",
    "\n",
    "for i in prot_seq:\n",
    "    seqt = seqt + i\n",
    "\n",
    "occur = [3]\n",
    "\n",
    "for i in seqt:     #iterate through list of codons and store its amino acid symbol to empty string, making protein sequence\n",
    "    if i in aminos.keys():\n",
    "        occur.append(int(aminos[i]))\n",
    "\n",
    "counter = 1\n",
    "\n",
    "for i in occur:\n",
    "    counter = counter * i\n",
    "    \n",
    "print(counter % 1000000)\n",
    "\n",
    "\n",
    "    \n"
   ]
  },
  {
   "cell_type": "code",
   "execution_count": 2,
   "id": "fbb08c29",
   "metadata": {},
   "outputs": [],
   "source": [
    "def GetAminos(file):\n",
    "    \n",
    "#     file = 'codons.txt'\n",
    "\n",
    "    with open(file, 'r') as gencode:        #open tab file\n",
    "        code_key = gencode.readlines()\n",
    "\n",
    "    aminos = {}\n",
    "    stripped = []\n",
    "    keys = []\n",
    "    values = []\n",
    "\n",
    "    for rows in code_key:   #iterate through file, removing \\n and splitting rows by \\t and append to new list\n",
    "        strip = (rows.strip('\\n'))\n",
    "        stripped.append(strip.split('\\t'))       \n",
    "\n",
    "    for i in stripped:       #add first item in each nested list to keys list. these are the three letter codons\n",
    "        keys.append(i[0])\n",
    "        values.append(i[1])   #add second item in each nested list to values list. these are the one letter symbols\n",
    "\n",
    "    for num in range(len(keys)):     #attach appropriate key:value relationships in empty dictionary\n",
    "        aminos[keys[num]] = values[num] \n",
    "\n",
    "    gencode.close()      #close file\n",
    "    \n",
    "    return aminos\n",
    "\n",
    "def InfermRNAs(filename):\n",
    "\n",
    "#     filename = 'rosalind_mrna.txt'\n",
    "\n",
    "    with open(filename, 'r') as prot:        #open tab file\n",
    "        prot_seq = prot.readlines()\n",
    "\n",
    "    seqt = ''\n",
    "\n",
    "    for i in prot_seq:\n",
    "        seqt = seqt + i\n",
    "\n",
    "    occur = [3]\n",
    "\n",
    "    for i in seqt:     #iterate through list of codons and store its amino acid symbol to empty string, making protein sequence\n",
    "        if i in aminos.keys():\n",
    "            occur.append(int(aminos[i]))\n",
    "\n",
    "    counter = 1\n",
    "\n",
    "    for i in occur:\n",
    "        counter = counter * i\n",
    "\n",
    "    return counter % 1000000 \n"
   ]
  },
  {
   "cell_type": "code",
   "execution_count": 4,
   "id": "ef8ed36b",
   "metadata": {},
   "outputs": [
    {
     "data": {
      "text/plain": [
       "838528"
      ]
     },
     "execution_count": 4,
     "metadata": {},
     "output_type": "execute_result"
    }
   ],
   "source": [
    "aminos = GetAminos('codons.txt')\n",
    "ans = InfermRNAs('rosalind_mrna.txt')\n",
    "ans"
   ]
  }
 ],
 "metadata": {
  "kernelspec": {
   "display_name": "Python 3 (ipykernel)",
   "language": "python",
   "name": "python3"
  },
  "language_info": {
   "codemirror_mode": {
    "name": "ipython",
    "version": 3
   },
   "file_extension": ".py",
   "mimetype": "text/x-python",
   "name": "python",
   "nbconvert_exporter": "python",
   "pygments_lexer": "ipython3",
   "version": "3.9.7"
  }
 },
 "nbformat": 4,
 "nbformat_minor": 5
}
