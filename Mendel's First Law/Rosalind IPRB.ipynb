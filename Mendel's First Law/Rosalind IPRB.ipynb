{
 "cells": [
  {
   "cell_type": "code",
   "execution_count": 3,
   "id": "717da525",
   "metadata": {},
   "outputs": [],
   "source": [
    "def MendelianInheritance(YY, Yy, yy):\n",
    "\n",
    "    n = YY+Yy+yy\n",
    "\n",
    "    prob = ((YY/n)*((YY-1)/(n-1))*4/4)+((YY/n)*(Yy/(n-1))*4/4)+((YY/n)*(yy/(n-1))*4/4)+((Yy/n)*((Yy-1)/(n-1))*3/4)+((Yy/n)*((YY)/(n-1))*4/4)+((Yy/n)*(yy/(n-1))*2/4)+((yy/n)*(YY/(n-1))*4/4)+((yy/n)*(Yy/(n-1))*2/4)\n",
    "\n",
    "    return prob"
   ]
  },
  {
   "cell_type": "code",
   "execution_count": 6,
   "id": "607c972e",
   "metadata": {},
   "outputs": [
    {
     "data": {
      "text/plain": [
       "0.8008312020460358"
      ]
     },
     "execution_count": 6,
     "metadata": {},
     "output_type": "execute_result"
    }
   ],
   "source": [
    "YY = 29\n",
    "Yy = 18\n",
    "yy = 22\n",
    "\n",
    "MendelianInheritance(YY, Yy, yy)"
   ]
  }
 ],
 "metadata": {
  "kernelspec": {
   "display_name": "Python 3 (ipykernel)",
   "language": "python",
   "name": "python3"
  },
  "language_info": {
   "codemirror_mode": {
    "name": "ipython",
    "version": 3
   },
   "file_extension": ".py",
   "mimetype": "text/x-python",
   "name": "python",
   "nbconvert_exporter": "python",
   "pygments_lexer": "ipython3",
   "version": "3.11.5"
  }
 },
 "nbformat": 4,
 "nbformat_minor": 5
}
