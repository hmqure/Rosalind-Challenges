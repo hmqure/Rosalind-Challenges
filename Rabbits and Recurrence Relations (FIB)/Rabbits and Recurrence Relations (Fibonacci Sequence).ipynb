{
 "cells": [
  {
   "cell_type": "code",
   "execution_count": 2,
   "id": "249a0aca",
   "metadata": {},
   "outputs": [],
   "source": [
    "def FibonacciRabbits(m, k):\n",
    "    \n",
    "    #multiply by number of litters k\n",
    "    #range limit is the nth month\n",
    "    \n",
    "    n = [1,1]\n",
    "\n",
    "\n",
    "    for i in range(2,m):\n",
    "        y = n[i-1]+n[i-2]*(k)\n",
    "        n.append(y)\n",
    "\n",
    "    return n\n"
   ]
  },
  {
   "cell_type": "code",
   "execution_count": 4,
   "id": "e71f6e4b",
   "metadata": {},
   "outputs": [
    {
     "data": {
      "text/plain": [
       "[1,\n",
       " 1,\n",
       " 6,\n",
       " 11,\n",
       " 41,\n",
       " 96,\n",
       " 301,\n",
       " 781,\n",
       " 2286,\n",
       " 6191,\n",
       " 17621,\n",
       " 48576,\n",
       " 136681,\n",
       " 379561,\n",
       " 1062966,\n",
       " 2960771,\n",
       " 8275601,\n",
       " 23079456,\n",
       " 64457461,\n",
       " 179854741,\n",
       " 502142046,\n",
       " 1401415751,\n",
       " 3912125981,\n",
       " 10919204736,\n",
       " 30479834641,\n",
       " 85075858321,\n",
       " 237475031526,\n",
       " 662854323131]"
      ]
     },
     "execution_count": 4,
     "metadata": {},
     "output_type": "execute_result"
    }
   ],
   "source": [
    "population = FibonacciRabbits(28, 5)\n",
    "population"
   ]
  }
 ],
 "metadata": {
  "kernelspec": {
   "display_name": "Python 3 (ipykernel)",
   "language": "python",
   "name": "python3"
  },
  "language_info": {
   "codemirror_mode": {
    "name": "ipython",
    "version": 3
   },
   "file_extension": ".py",
   "mimetype": "text/x-python",
   "name": "python",
   "nbconvert_exporter": "python",
   "pygments_lexer": "ipython3",
   "version": "3.9.7"
  }
 },
 "nbformat": 4,
 "nbformat_minor": 5
}
