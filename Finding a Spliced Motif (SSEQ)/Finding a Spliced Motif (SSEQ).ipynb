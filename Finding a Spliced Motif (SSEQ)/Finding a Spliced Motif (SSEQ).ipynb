{
 "cells": [
  {
   "cell_type": "code",
   "execution_count": 3,
   "id": "145b5783",
   "metadata": {},
   "outputs": [],
   "source": [
    "def FindSplicedMotif(file):\n",
    "    \n",
    "    with open(file, 'r') as sequence:  #open fasta file\n",
    "        data2 = sequence.readlines()\n",
    "\n",
    "    seq = []\n",
    "    full = ''\n",
    "\n",
    "    for i in data2:                       #This iterates through the fasta (opened again to not interfere with the ids) and finds id line\n",
    "        if i[0] == '>':\n",
    "            unique = (i.replace(i[-1], \">\"))\n",
    "            seq.append(unique)           #Adds \">\" at the end of the id line to make a clear separation between headers and sequences\n",
    "        else:\n",
    "            seq.append(i)                #Prints each line into empty newfasta list\n",
    "\n",
    "    oneline = \"\".join(line.strip() for line in seq)\n",
    "    id_seq = oneline.split(\">\")       \n",
    "\n",
    "    nt = ['A','C','G','T']\n",
    "    seqs = []\n",
    "\n",
    "    for x in range(len(id_seq)):\n",
    "        if id_seq[x].startswith('C'):\n",
    "            seqs.append(id_seq[x])\n",
    "        elif id_seq[x].startswith('G'):\n",
    "            seqs.append(id_seq[x])\n",
    "        elif id_seq[x].startswith('T'):\n",
    "            seqs.append(id_seq[x])\n",
    "        elif id_seq[x].startswith('A'):\n",
    "            seqs.append(id_seq[x])\n",
    "\n",
    "    string = seqs[0]\n",
    "    motif = seqs[1]\n",
    "\n",
    "    A = []\n",
    "    C = []\n",
    "    G = []\n",
    "    T = []\n",
    "\n",
    "\n",
    "    substr = [0]\n",
    "\n",
    "\n",
    "    for i in range(len(string)):\n",
    "        if string[i] == 'A':\n",
    "            A.append(i+1)\n",
    "        elif string[i] == 'C':\n",
    "            C.append(i+1)\n",
    "        elif string[i] == 'G':\n",
    "            G.append(i+1)\n",
    "        elif string[i] == 'T':\n",
    "            T.append(i+1)\n",
    "\n",
    "\n",
    "    for i in range(len(motif)):\n",
    "        maximum = max(substr)\n",
    "\n",
    "        if motif[i] == 'A':\n",
    "            res = next(x for x, val in enumerate(A) if val > maximum)\n",
    "            substr.append(A[res])\n",
    "\n",
    "        elif motif[i] == 'C':\n",
    "            res = next(x for x, val in enumerate(C) if val > maximum)\n",
    "            substr.append(C[res])\n",
    "\n",
    "        elif motif[i] == 'G':\n",
    "            res = next(x for x, val in enumerate(G) if val > maximum)\n",
    "            substr.append(G[res])\n",
    "\n",
    "        elif motif[i] == 'T':\n",
    "            res = next(x for x, val in enumerate(T) if val > maximum)\n",
    "            substr.append(T[res])\n",
    "\n",
    "\n",
    "    print(*substr[1:], sep=' ') "
   ]
  },
  {
   "cell_type": "code",
   "execution_count": 4,
   "id": "96f659f3",
   "metadata": {},
   "outputs": [
    {
     "name": "stdout",
     "output_type": "stream",
     "text": [
      "6 11 12 13 15 16 21 25 28 29 39 41 45 46 47 53 54 64 74 79 85 88 94 101 105 110 116 117 119 120 122 134 135 138 145 146 148 149 150 151 152 157 159 160 166 167 168 170 173 177 191 197 204 205 207 215 221 235 240 245 246 248 254 259 260 266 267 270 271 278 287 298 305 309 310 311 312 315 317 328 331 335 337\n"
     ]
    }
   ],
   "source": [
    "FindSplicedMotif('rosalind_sseq.txt')"
   ]
  }
 ],
 "metadata": {
  "kernelspec": {
   "display_name": "Python 3 (ipykernel)",
   "language": "python",
   "name": "python3"
  },
  "language_info": {
   "codemirror_mode": {
    "name": "ipython",
    "version": 3
   },
   "file_extension": ".py",
   "mimetype": "text/x-python",
   "name": "python",
   "nbconvert_exporter": "python",
   "pygments_lexer": "ipython3",
   "version": "3.9.7"
  }
 },
 "nbformat": 4,
 "nbformat_minor": 5
}
